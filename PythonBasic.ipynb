{
 "cells": [
  {
   "attachments": {},
   "cell_type": "markdown",
   "metadata": {},
   "source": [
    "# Công cụ  **Jupyter Notebook**.<br><br>\n",
    ">  ****Jupyter Notebook**** là gì mà không thể thiếu trong ngôn ngữ lập trình Python.<br> Làm sao để sử dụng và cài đặt **Jupyter Notebook**? Lợi ích mà nó đem lại là gì? \n",
    "\n",
    "## <font color='green'>**Jupyter Notebook** là gì?</font>\n",
    "**Jupyter** là một thuật ngữ được ghép từ ba ngôn ngữ lập trình **Julia**, **Python** và **R**. <br>\n",
    "Trước đây ****Jupyter Notebook**** có tên là **IPython Notebook**, đến năm 2014 tách ra khỏi IPython và đổi tên thành **Jupyter Notebook**.\n",
    "\n",
    "**Jupyter Notebook**  là một nền tảng tính toán khoa học mã nguồn mở, bạn có thể sử dụng để tạo và chia sẻ các tài liệu có chứa code trực tiếp, <br> phương trình, trực quan hóa dữ liệu và văn bản tường thuật.\n",
    "\n",
    "**Jupyter Notebook** được coi là môi trường điện toán tương tác đa ngôn ngữ, hỗ trợ hơn 40 ngôn ngữ lập trình cho người dùng.\n",
    "\n",
    "Với **Jupyter Notebook**, người dùng có thể đưa dữ liệu, code, hình ảnh, công thức, video,.. <br> vào trong cùng một file, giúp cho việc trình bày trở nên dễ dàng hơn. Bạn có thể vừa trình chiếu vừa chạy code để tương tác trên đó, cốt lõi của việc này là Markdown.\n",
    "\n",
    "Lợi ích mà **Jupyter Notebook** mang lại\n",
    "**Jupyter Notebook** được viết bằng các ngôn ngữ như Python, R và Julia, nền tảng này hiện đang được sử dụng rộng rãi.<br> Bên cạnh đó, Jupyter còn tạo ra tài liệu, trực quan hóa dữ liệu và lưu trữ chúng một cách dễ dàng hơn rất nhiều.\n",
    "\n",
    "<font color='green'>Dưới đây là một số lợi ích mà **Jupyter Notebook** mang lại:</font>\n",
    "\n",
    "> <font color='green'>**Phân tích khám phá dữ liệu(Exploratory Data Analysis)** </font>\n",
    "Jupyter cho phép người dùng **xem kết quả của code in-line (mã inline)** <br>mà không cần phụ thuộc vào các phần khác của code.\n",
    "**Trong Notebook mọi ô của code có thể được kiểm tra bất cứ lúc nào**, <br> điều này đã giúp Jupyter trở nên khác biệt so với các ID như Pycharm, VSCode. <br> Việc Jupyter có thể xuất code in-line đã giúp ích rất nhiều trong quá trình phân tích khám phá dữ liệu (EDA).\n",
    "\n",
    "> <font color='green'>**Bộ đệm dễ dàng trong ô tích hợp**</font>\n",
    "Từng ô tự duy trì trạng thái hoạt động sẽ hơi khó, nhưng với Jupyter, công việc này sẽ được thực hiện tự động.<br> Vì **Jupyter lưu trữ kết quả hoạt động của mọi ô đang chạy**,<br> cho dù là code đang đào tạo mô hình machine learning hay code đang tải xuống gigabyte dữ liệu từ một máy chủ từ xa.\n",
    "\n",
    "> <font color='green'>**Độc lập ngôn ngữ**</font>\n",
    "**Jupyter Notebook** ở định dạng JSON, vì thế nó được biết đến là một nền tảng độc lập cũng như độc lập về ngôn ngữ.\n",
    "\n",
    "> <font color='green'>**Trực quan hóa dữ liệu (Data Visualisation)**</font>\n",
    "**Jupyter Notebook** hỗ trợ trực quan hóa dữ liệu và hiển thị thêm một số đồ họa và biểu đồ. <br> Những điều này được tạo ra từ code với sự trợ giúp của các mô -đun như Matplotlib, Plotly hoặc Bokeh. <br> Ngoài ra, Jupyter còn cho phép người dùng cùng chia sẻ code và bộ dữ liệu hoặc thay đổi tương tác với nhau.\n",
    "\n",
    "> <font color='green'>**Tương tác trực tiếp với code**</font>\n",
    "**Jupyter Notebook** sử dụng \"ipywidgets\" packages, cung cấp cho người dùng giao diện chuẩn nhằm khám phá sự tương tác trực tiếp với code và với dữ liệu. <br> Người dùng có thể chỉnh sửa và chạy code, làm cho code của Jupyter non-static.\n",
    "\n",
    "> Ngoài ra, nó còn cho phép người dùng kiểm soát nguồn đầu vào của code và phản hồi lại trực tiếp trên trình duyệt.    \n",
    "\n",
    "> <font color='green'>**Các mẫu code tài liệu**</font>\n",
    "Jupyter giúp người dùng dễ dàng giải thích từng dòng code của họ với các phản hồi được đính kèm. <br>Dù trong code đã có đầy đủ các chức năng nhưng người dùng vẫn có thể tăng thêm sự tương tác bằng các lời giải thích."
   ]
  }
 ],
 "metadata": {
  "language_info": {
   "name": "python"
  },
  "orig_nbformat": 4
 },
 "nbformat": 4,
 "nbformat_minor": 2
}
