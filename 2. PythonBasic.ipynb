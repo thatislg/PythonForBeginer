{
 "cells": [
  {
   "attachments": {},
   "cell_type": "markdown",
   "metadata": {},
   "source": [
    "# Các nội dung liên quan đến cơ bản về Python\n",
    "* ## [1. Các kiểu dữ liệu trong Python](#section1)\n",
    "  * ## [1.1 Kiểu dữ liệu số](#section1_1)\n",
    "  * ## [1.2 Dữ liệu kiểu chuỗi](#section1_2)\n",
    "  * ## [1.3 Dữ liệu kiểu collection](#section1.3)\n",
    "  * ## [1.4 Nhị phân](#section1.4)\n",
    "  * ## [1.5 Boolean](#section1.5)\n",
    "* ## [2. Biến trong Python](#section2)\n",
    "* ## [3. Hàm trong Python](#section3)\n",
    "    * ## [3.1. Built-in](#section4)\n",
    "    * ## [3.2. Hàm tự định nghĩa](#section5)\n",
    "* ## [4. Vòng lặp trong Python](#section6)\n",
    "* ## [5. Biểu thức có điều kiện](#section7)\n",
    "* ## [6. OOP trong Python](#section8)\n",
    "* ## [7. Modules trong Python](#section9)\n"
   ]
  },
  {
   "attachments": {},
   "cell_type": "markdown",
   "metadata": {},
   "source": [
    "<a id=\"section1\">---</a>"
   ]
  },
  {
   "attachments": {},
   "cell_type": "markdown",
   "metadata": {},
   "source": [
    "# 1 Các kiểu dữ liệu trong python"
   ]
  },
  {
   "attachments": {},
   "cell_type": "markdown",
   "metadata": {},
   "source": [
    "<a id=\"section1_1\">---</a>"
   ]
  },
  {
   "attachments": {},
   "cell_type": "markdown",
   "metadata": {},
   "source": [
    "## 1.1 Dữ liệu kiểu số\n",
    "* 1. Giới thiệu chung về các kiểu số trong Python\n",
    "* 2. Kiểu số nguyên int\n",
    "* 3. Kiểu số thực float\n",
    "* 4. Kiểu số phức complex\n",
    "* 5. Các phép toán trên kiểu số\n",
    "* 6. Kết luận\n",
    "\n",
    "**Giới thiệu chung về các kiểu số trong Python**\n",
    "\n",
    "> Số là kiểu dữ liệu cơ bản nhất trong các ngôn ngữ lập trình. Ngôn ngữ Python hỗ trợ sẵn 3 kiểu số cơ bản: **int (số nguyên có dấu lớn tùy ý), float (số thực), complex (số phức)**.\n",
    "Python **căn cứ vào cách viết** (literal) của giá trị **để tự xác định kiểu** cho giá trị số tương ứng. Ví dụ, a = 10 sẽ tạo ra một số nguyên, b = 10. sẽ tạo ra một số thực, b = 10j sẽ tạo ra một số phức. Chi tiết về cách viết các loại số sẽ trình bày trong các phần tiếp theo của bài học.\n",
    "\n",
    "> Python **hỗ trợ tất cả** các phép toán số học toán cơ bản **(+, -, *, /, v.v.)** trên các kiểu số cũng như các phép toán phức tạp hơn (ở dạng các hàm) trong module math (như log, sin, cos, v.v.). Ngoài ra Python cũng rất nổi tiếng về **các thư viện hỗ trợ tính toán do cộng đồng cung cấp**.\n",
    "  \n",
    "> Một đặc điểm quan trọng của kiểu số trong Python là **tính bất biến (immutability)**. Nghĩa là giá trị số một khi đã tạo ra trong bộ nhớ (và có biến tham chiếu tới), nó sẽ không thay đổi được nữa. Nếu bạn thay đổi giá trị của một số, trên thực tế Python sẽ tạo ra một giá trị mới trong bộ nhớ.\n",
    "  \n",
    "> Ví dụ nếu ban đầu bạn tạo một giá trị số qua lệnh gán a = 10, Python sẽ tạo một giá trị 10 trong bộ nhớ và để a trỏ vào giá trị này. Nếu sau đó bạn lại gán a = 10j (số phức), Python không hề thay đổi giá trị số mà a trỏ tới. Thay vào đó Python sẽ tạo một giá trị mới 10j trong bộ nhớ và để a trỏ tới giá trị mới này. Giá trị cũ 10 sẽ không còn được tham chiếu tới nữa. Sau một thời gian Garbage Collector sẽ dọn dẹp giá trị này để thu hồi bộ nhớ.\n",
    "\n",
    "**Kiểu số nguyên int**\n",
    "> Kiểu int biểu diễn các số nguyên có dấu với độ lớn tùy ý. Kiểu int trong Python không sử dụng số bit cố định để biểu diễn như trong các ngôn ngữ khác. Tùy thuộc vào giá trị cụ thể Python sẽ chọn số bit phù hợp. Giá trị nguyên lớn nhất mà Python biểu diễn được chỉ phụ thuộc vào bộ nhớ.\n",
    "\n",
    "> Python hỗ trợ biểu diễn số nguyên dương, số nguyên âm, số ở dạng thập phân, hệ cơ số 8, hệ cơ số 16.\n",
    "\n",
    "> Khi biểu diễn số ở cơ số 8 bạn dùng tiếp tố 0o hoặc 0O (số không và chữ o hoa/thường). Khi biểu diễn số ở hệ 16 thì dùng tiếp tố 0x hoặc 0X (số 0 và chữ x/X)\n"
   ]
  },
  {
   "cell_type": "code",
   "execution_count": 16,
   "metadata": {},
   "outputs": [
    {
     "name": "stdout",
     "output_type": "stream",
     "text": [
      "5  và  10\n",
      "5  và  10\n",
      "Kiểu giá trị của X là:  <class 'int'>\n",
      "Kiểu giá trị của Y là:  <class 'int'>\n"
     ]
    }
   ],
   "source": [
    "# Khai báo 1 biển trong python\n",
    "# tên_biến = giá trị\n",
    "# ví dụ khai báo x = 5, y = 10\n",
    "# in kiểm tra sử dụng hàm print\n",
    "# cách 1\n",
    "x = 5\n",
    "y = 10\n",
    "print(x, \" và \", y) \n",
    "\n",
    "# cách 2\n",
    "x1, y1 = 5, 10\n",
    "print(x1, \" và \", y1) \n",
    "\n",
    "# kiểm tra kiểu dữ liệu của biến sử dụng hàm số type()\n",
    "print(\"Kiểu giá trị của X là: \", type(x))\n",
    "print(\"Kiểu giá trị của Y là: \", type(y))"
   ]
  },
  {
   "cell_type": "code",
   "execution_count": 17,
   "metadata": {},
   "outputs": [
    {
     "name": "stdout",
     "output_type": "stream",
     "text": [
      "1000000 và kiểu dữ liệu là:  <class 'int'>\n"
     ]
    }
   ],
   "source": [
    "# sử dụng dấu gạch chân để nhóm các chữ số trong biểu diễn số\n",
    "i = 1_000_000\n",
    "print(i, \"và kiểu dữ liệu là: \", type(i))"
   ]
  },
  {
   "attachments": {},
   "cell_type": "markdown",
   "metadata": {},
   "source": [
    "|  Giá trị nguyên |  Ghi chú |\n",
    "|---|---|\n",
    "| 100: |\tSố nguyên dương |\n",
    "| -100: |   Số nguyên âm |\n",
    "| 0o100, 0O100: |\tSố dương ở cơ số 8 (số 64 cơ số 10) |\n",
    "| -0o100, -0O100: |\tSố âm ở cơ số 8 |\n",
    "| 0x100, 0X100: |\tSố dương ở cơ số 16 (256 cơ số 10) |\n",
    "| -0x100, -0X100: |\tSố âm ở cơ số 16 |\n"
   ]
  },
  {
   "attachments": {},
   "cell_type": "markdown",
   "metadata": {},
   "source": [
    "**Kiểu số thực float**\n",
    "\n",
    "> Trong Python float dùng để biểu diễn số thực dấu phảy động. Để viết số thực trong Python bạn cần đặt 1 dấu chấm thập phân. Dưới đây các cách biểu diễn giá trị thực trong Python:\n",
    "\n",
    "|  Giá trị thực |  Ghi chú |\n",
    "|---|---|\n",
    "| 0.0 |\tGiá trị 0.0 (float) chưa chắc đã bằng 0 (int) |\n",
    "| 100.0 |\t\tSố thực dương |\n",
    "| -100.0 |\t\tSố thực âm |\n",
    "| 100e2, -100e2 |\t\tCách viết khoa học, bằng +/- 100 * 10^2 = +/- 10000.0 |\n",
    "| 100e-2, -100e-2 |\t\tCách viết khoa học, bằng +/- 100 * 10^-2 = +/- 1.0 |\n",
    "| 100., -100. |\t\tKhông cần viết số 0 sau dấu chấm thập phân, tương đương 100.0, -100.0 |\n"
   ]
  },
  {
   "cell_type": "code",
   "execution_count": 18,
   "metadata": {},
   "outputs": [
    {
     "name": "stdout",
     "output_type": "stream",
     "text": [
      "1000000.074 và kiểu dữ liệu là:  <class 'float'>\n"
     ]
    }
   ],
   "source": [
    "# sử dụng dấu gạch chân để nhóm các chữ số trong biểu diễn số\n",
    "i = 1_000_000.074\n",
    "print(i, \"và kiểu dữ liệu là: \", type(i))"
   ]
  },
  {
   "attachments": {},
   "cell_type": "markdown",
   "metadata": {},
   "source": [
    "**Kiểu số phức complex**\n",
    "> Python là một trong số ít các ngôn ngữ hỗ trợ trực tiếp kiểu số phức. Tuy nhiên số phức tương đối ít được sử dụng.\n",
    "\n",
    "> Trong toán học, số phức được biểu diễn ở dạng tổng quát a + bi với i là đơn vị ảo. Trong Python, đơn vị ảo được biểu diễn bằng ký tự j hoặc J.\n",
    "\n",
    "> Như vậy, số phức trong Python cần chứa ký tự j (hoặc J) để biểu diễn phần ảo. Dưới đây là ví dụ về cách biểu diễn số phức trong Python: \n",
    "\n",
    "|  Giá trị phức |  Ghi chú |\n",
    "|---|---|\n",
    "| 3.14j | Chỉ có phần ảo (0 + 3.14j)  | \n",
    "| 45.j | Chính là (0 + 45j) |\n",
    "|  3 + 2j |  Số phức (3 + 2j) |\n",
    "| 1+3.2e25j |\tPhần ảo biểu diễn ở dạng khoa học |\n",
    "|1+j |\t**Lỗi: j ở đây sẽ hiểu là một biến**. Bạn phải viết 1 + 1j|\n",
    "\n",
    "\n",
    "> Lưu ý: j (J) phải đi kèm số thì mới được xem là đơn vị ảo. Nếu đi một mình, j hay J sẽ bị xem là tên biến. Vì vậy 1 + j là một biểu thức (với j là một biến) nhưng 1 + 1j là một số phức."
   ]
  },
  {
   "cell_type": "code",
   "execution_count": 19,
   "metadata": {},
   "outputs": [
    {
     "name": "stdout",
     "output_type": "stream",
     "text": [
      "(1.23+4j) và kiểu dữ liệu là:  <class 'complex'>\n",
      "(4.05-2j) và kiểu dữ liệu là:  <class 'complex'>\n"
     ]
    }
   ],
   "source": [
    "# Khai báo số thực a, b\n",
    "a, b = 1.23 + 4j, 4.05 - 2j\n",
    "\n",
    "# Kiểm tra giá trị và kiểu dữ liệu\n",
    "print(a, \"và kiểu dữ liệu là: \", type(a))\n",
    "print(b, \"và kiểu dữ liệu là: \", type(b))"
   ]
  },
  {
   "attachments": {},
   "cell_type": "markdown",
   "metadata": {},
   "source": [
    "**Các phép toán trên kiểu số**\n",
    "\n",
    "> Python hỗ trợ tất cả các **phép toán số học** cơ bản trên kiểu số. Đa số các phép toán này có hình thức tương tự như trong C, một số có dạng hơi khác.\n",
    "\n",
    "| Phép toán\t| Ý nghĩa |\tSử dụng | Ví dụ |\n",
    "|---|---|---|---|\n",
    "| + | Phép cộng số học | \ta + b\t |  | \n",
    "| – | \tPhép trừ số học\t | a – b\t |  | \n",
    "| * | \tPhép nhân số học | \ta * b\t |  | \n",
    "| / | \tPhép chia số học | \ta / b\t |  | \n",
    "| % | \tPhép chia lấy dư | \ta % b\t | 4 % 2 = 0, 4 % 3 = 1 | \n",
    "| ** | \tPhép lũy thừa\t | a ** b\t | 2 ** 3 = 8 | \n",
    "| // | \tPhép chia lấy phần nguyên | \ta // b\t | 9 // 2 = 4, 11 / 3 = 3, -11//3 = -4 | \n",
    "\n",
    "> Các **phép so sánh** có thể áp dụng trên tất cả các kiểu số. Kết quả của phép toán so sánh thuộc về kiểu boolean (True/False).\n",
    "\n",
    "| Phép toán |\tÝ nghĩa |\tSử dụng|\n",
    "|---|---|---|\n",
    "| == |\tSo sánh bằng |\ta == b |\n",
    "| != |\tSo sánh khác |\ta != b |\n",
    "| > |\tSo sánh lớn hơn |\ta > b |\n",
    "| < |\tSo sánh nhỏ hơn |\ta < b |\n",
    "| >= |\tLớn hơn hoặc bằng |\ta >= b |\n",
    "| <= |\tNhỏ hơn hoặc bằng |\ta <= b |\n",
    "\n",
    "> Python hỗ trợ các phép toán gán tương tự như trong C:\n",
    "\n",
    "| Phép toán| \tCách dùng| \tÝ nghĩa| \n",
    "| ---| ---| ---| \n",
    "| +=| \ta += b| \ttương đương a = a + b| \n",
    "| -=| \ta -= b| \ta = a – b| \n",
    "| *=| \ta *= b| \ta = a * b| \n",
    "| /=| \ta /= b| \ta = a / b| \n",
    "| %=| \ta %= b| \ta = a % b| \n",
    "| **=| \ta **= b| \ta = a ** b| \n",
    "| //=| a //= b| \ta = a // b| \n",
    "\n",
    "> Python cung cấp một số hàm xử lý số tích hợp sẵn cho kiểu số:\n",
    "\n",
    "| Tên hàm| chức năng |\n",
    "|---|---|\n",
    "| abs(x) |\tLấy giá trị tuyệt đối của x |\n",
    "| int(x) |\tChuyển đổi x sang kiểu số nguyên |\n",
    "| float(x) |\tChuyển đổi x sang kiểu dố thực |\n",
    "| complex(re, im) |\tTạo số phức với phần thực re, phần ảo im. |\n",
    "| divmod(x, y) |\tThực hiện cặp phép toán (x // y, x % y), ví dụ divmod(10, 2) cho kết quả (5, 0) |\n",
    "| pow(x, y) |\tTương tự x ** y |\n",
    "| hex(x) |\tTrả về dạng biểu diễn cơ số 16 của số x |\n",
    "| oct(x) |\tTrả về dạng biểu diễn cơ số 8 của số x |\n",
    "\n"
   ]
  },
  {
   "attachments": {},
   "cell_type": "markdown",
   "metadata": {},
   "source": []
  },
  {
   "cell_type": "code",
   "execution_count": 20,
   "metadata": {},
   "outputs": [
    {
     "name": "stdout",
     "output_type": "stream",
     "text": [
      "-0.8011526357338304\n",
      "-0.5984600690578581\n",
      "9.0\n",
      "0xf\n"
     ]
    }
   ],
   "source": [
    "# Để sử dụng được các thư viện liên quan tới toán học \n",
    "# cần import thư viện math\n",
    "import math\n",
    "\n",
    "print(math.sin(180))\n",
    "print(math.cos(180))\n",
    "print(math.pow(3, 2))\n",
    "print(hex(15))"
   ]
  },
  {
   "attachments": {},
   "cell_type": "markdown",
   "metadata": {},
   "source": [
    "**Kết luận**\n",
    "\n",
    "> So với các ngôn ngữ lập trình như C# hay Java, các kiểu số trong Python đơn giản hơn (ít kiểu). Tuy nhiên, các kiểu số trong Python lại có điểm đặc thù là bất biến, tương tự như string của C#.\n",
    "\n",
    "> Các phép toán cơ bản của Python khá tương tự như trong C và các ngôn ngữ khác. Python cũng cung cấp thư viện cho các hàm toán học math."
   ]
  },
  {
   "attachments": {},
   "cell_type": "markdown",
   "metadata": {},
   "source": [
    "<a id=\"section1_2\">---</a>"
   ]
  },
  {
   "attachments": {},
   "cell_type": "markdown",
   "metadata": {},
   "source": [
    "## 1.2 Dữ liệu kiểu chuỗi"
   ]
  }
 ],
 "metadata": {
  "kernelspec": {
   "display_name": "Python 3",
   "language": "python",
   "name": "python3"
  },
  "language_info": {
   "codemirror_mode": {
    "name": "ipython",
    "version": 3
   },
   "file_extension": ".py",
   "mimetype": "text/x-python",
   "name": "python",
   "nbconvert_exporter": "python",
   "pygments_lexer": "ipython3",
   "version": "3.10.9"
  },
  "orig_nbformat": 4
 },
 "nbformat": 4,
 "nbformat_minor": 2
}
